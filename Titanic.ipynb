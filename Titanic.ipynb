{
 "cells": [
  {
   "cell_type": "code",
   "execution_count": 1,
   "metadata": {},
   "outputs": [
    {
     "data": {
      "text/html": [
       "<div>\n",
       "<style scoped>\n",
       "    .dataframe tbody tr th:only-of-type {\n",
       "        vertical-align: middle;\n",
       "    }\n",
       "\n",
       "    .dataframe tbody tr th {\n",
       "        vertical-align: top;\n",
       "    }\n",
       "\n",
       "    .dataframe thead th {\n",
       "        text-align: right;\n",
       "    }\n",
       "</style>\n",
       "<table border=\"1\" class=\"dataframe\">\n",
       "  <thead>\n",
       "    <tr style=\"text-align: right;\">\n",
       "      <th></th>\n",
       "      <th>PassengerId</th>\n",
       "      <th>Survived</th>\n",
       "      <th>Pclass</th>\n",
       "      <th>Name</th>\n",
       "      <th>Sex</th>\n",
       "      <th>Age</th>\n",
       "      <th>SibSp</th>\n",
       "      <th>Parch</th>\n",
       "      <th>Ticket</th>\n",
       "      <th>Fare</th>\n",
       "      <th>Cabin</th>\n",
       "      <th>Embarked</th>\n",
       "    </tr>\n",
       "  </thead>\n",
       "  <tbody>\n",
       "    <tr>\n",
       "      <th>0</th>\n",
       "      <td>1</td>\n",
       "      <td>0</td>\n",
       "      <td>3</td>\n",
       "      <td>Braund, Mr. Owen Harris</td>\n",
       "      <td>male</td>\n",
       "      <td>22.0</td>\n",
       "      <td>1</td>\n",
       "      <td>0</td>\n",
       "      <td>A/5 21171</td>\n",
       "      <td>7.2500</td>\n",
       "      <td>NaN</td>\n",
       "      <td>S</td>\n",
       "    </tr>\n",
       "    <tr>\n",
       "      <th>1</th>\n",
       "      <td>2</td>\n",
       "      <td>1</td>\n",
       "      <td>1</td>\n",
       "      <td>Cumings, Mrs. John Bradley (Florence Briggs Th...</td>\n",
       "      <td>female</td>\n",
       "      <td>38.0</td>\n",
       "      <td>1</td>\n",
       "      <td>0</td>\n",
       "      <td>PC 17599</td>\n",
       "      <td>71.2833</td>\n",
       "      <td>C85</td>\n",
       "      <td>C</td>\n",
       "    </tr>\n",
       "    <tr>\n",
       "      <th>2</th>\n",
       "      <td>3</td>\n",
       "      <td>1</td>\n",
       "      <td>3</td>\n",
       "      <td>Heikkinen, Miss. Laina</td>\n",
       "      <td>female</td>\n",
       "      <td>26.0</td>\n",
       "      <td>0</td>\n",
       "      <td>0</td>\n",
       "      <td>STON/O2. 3101282</td>\n",
       "      <td>7.9250</td>\n",
       "      <td>NaN</td>\n",
       "      <td>S</td>\n",
       "    </tr>\n",
       "  </tbody>\n",
       "</table>\n",
       "</div>"
      ],
      "text/plain": [
       "   PassengerId  Survived  Pclass  \\\n",
       "0            1         0       3   \n",
       "1            2         1       1   \n",
       "2            3         1       3   \n",
       "\n",
       "                                                Name     Sex   Age  SibSp  \\\n",
       "0                            Braund, Mr. Owen Harris    male  22.0      1   \n",
       "1  Cumings, Mrs. John Bradley (Florence Briggs Th...  female  38.0      1   \n",
       "2                             Heikkinen, Miss. Laina  female  26.0      0   \n",
       "\n",
       "   Parch            Ticket     Fare Cabin Embarked  \n",
       "0      0         A/5 21171   7.2500   NaN        S  \n",
       "1      0          PC 17599  71.2833   C85        C  \n",
       "2      0  STON/O2. 3101282   7.9250   NaN        S  "
      ]
     },
     "execution_count": 1,
     "metadata": {},
     "output_type": "execute_result"
    }
   ],
   "source": [
    "import numpy as np\n",
    "import pandas as pd\n",
    "import matplotlib.pyplot as plt\n",
    "import seaborn as sns\n",
    "%matplotlib inline\n",
    "\n",
    "titanic_df = pd.read_csv('./titanic_train.csv')\n",
    "titanic_df.head(3)"
   ]
  },
  {
   "cell_type": "code",
   "execution_count": 2,
   "metadata": {},
   "outputs": [
    {
     "name": "stdout",
     "output_type": "stream",
     "text": [
      "\n",
      " ### 학습 데이터 정보 ###  \n",
      "\n",
      "<class 'pandas.core.frame.DataFrame'>\n",
      "RangeIndex: 891 entries, 0 to 890\n",
      "Data columns (total 12 columns):\n",
      " #   Column       Non-Null Count  Dtype  \n",
      "---  ------       --------------  -----  \n",
      " 0   PassengerId  891 non-null    int64  \n",
      " 1   Survived     891 non-null    int64  \n",
      " 2   Pclass       891 non-null    int64  \n",
      " 3   Name         891 non-null    object \n",
      " 4   Sex          891 non-null    object \n",
      " 5   Age          714 non-null    float64\n",
      " 6   SibSp        891 non-null    int64  \n",
      " 7   Parch        891 non-null    int64  \n",
      " 8   Ticket       891 non-null    object \n",
      " 9   Fare         891 non-null    float64\n",
      " 10  Cabin        204 non-null    object \n",
      " 11  Embarked     889 non-null    object \n",
      "dtypes: float64(2), int64(5), object(5)\n",
      "memory usage: 83.7+ KB\n",
      "None\n"
     ]
    }
   ],
   "source": [
    "print('\\n ### 학습 데이터 정보 ###  \\n')\n",
    "print(titanic_df.info())"
   ]
  },
  {
   "cell_type": "code",
   "execution_count": 5,
   "metadata": {},
   "outputs": [
    {
     "name": "stdout",
     "output_type": "stream",
     "text": [
      "데이터 세트 Null 값 개수  0\n"
     ]
    }
   ],
   "source": [
    "# null값 채우기\n",
    "titanic_df['Age'].fillna(titanic_df['Age'].mean(), inplace=True)\n",
    "titanic_df['Cabin'].fillna('N', inplace=True)\n",
    "titanic_df['Embarked'].fillna('N', inplace=True)\n",
    "print('데이터 세트 Null 값 개수 ', titanic_df.isnull().sum().sum())"
   ]
  },
  {
   "cell_type": "code",
   "execution_count": 10,
   "metadata": {},
   "outputs": [
    {
     "name": "stdout",
     "output_type": "stream",
     "text": [
      " Sex 값 분포 :\n",
      " male      577\n",
      "female    314\n",
      "Name: Sex, dtype: int64\n",
      "\n",
      " Cabin 값 분포 :\n",
      " N    687\n",
      "C     59\n",
      "B     47\n",
      "D     33\n",
      "E     32\n",
      "A     15\n",
      "F     13\n",
      "G      4\n",
      "T      1\n",
      "Name: Cabin, dtype: int64\n",
      "\n",
      " Embarked 값 분포 :\n",
      " S    644\n",
      "C    168\n",
      "Q     77\n",
      "N      2\n",
      "Name: Embarked, dtype: int64\n"
     ]
    }
   ],
   "source": [
    "# 남아있는 문자열 피처 값 분류 보기\n",
    "print(' Sex 값 분포 :\\n',titanic_df['Sex'].value_counts())\n",
    "print('\\n Cabin 값 분포 :\\n',titanic_df['Cabin'].value_counts())\n",
    "print('\\n Embarked 값 분포 :\\n',titanic_df['Embarked'].value_counts())"
   ]
  },
  {
   "cell_type": "code",
   "execution_count": 11,
   "metadata": {},
   "outputs": [
    {
     "name": "stdout",
     "output_type": "stream",
     "text": [
      "0    N\n",
      "1    C\n",
      "2    N\n",
      "Name: Cabin, dtype: object\n"
     ]
    }
   ],
   "source": [
    "# cabin 선실의 값중 유효한 맨 앞자리 등급만 따와서 모으기\n",
    "titanic_df['Cabin'] = titanic_df['Cabin'].str[:1]\n",
    "print(titanic_df['Cabin'].head(3))"
   ]
  },
  {
   "cell_type": "code",
   "execution_count": 12,
   "metadata": {},
   "outputs": [
    {
     "data": {
      "text/plain": [
       "Sex     Survived\n",
       "female  0            81\n",
       "        1           233\n",
       "male    0           468\n",
       "        1           109\n",
       "Name: Survived, dtype: int64"
      ]
     },
     "execution_count": 12,
     "metadata": {},
     "output_type": "execute_result"
    }
   ],
   "source": [
    "# 성별이 생존확률에 미치는 영향 찾기\n",
    "titanic_df.groupby(['Sex','Survived'])['Survived'].count()"
   ]
  },
  {
   "cell_type": "code",
   "execution_count": 13,
   "metadata": {},
   "outputs": [
    {
     "data": {
      "text/plain": [
       "<Axes: xlabel='Sex', ylabel='Survived'>"
      ]
     },
     "execution_count": 13,
     "metadata": {},
     "output_type": "execute_result"
    },
    {
     "data": {
      "image/png": "[encoded data removed]",
      "text/plain": [
       "<Figure size 640x480 with 1 Axes>"
      ]
     },
     "metadata": {},
     "output_type": "display_data"
    }
   ],
   "source": [
    "sns.barplot(x='Sex', y='Survived', data=titanic_df)"
   ]
  },
  {
   "cell_type": "code",
   "execution_count": 14,
   "metadata": {},
   "outputs": [
    {
     "data": {
      "text/plain": [
       "<Axes: xlabel='Pclass', ylabel='Survived'>"
      ]
     },
     "execution_count": 14,
     "metadata": {},
     "output_type": "execute_result"
    },
    {
     "data": {
      "image/png": "[encoded data removed]",
      "text/plain": [
       "<Figure size 640x480 with 1 Axes>"
      ]
     },
     "metadata": {},
     "output_type": "display_data"
    }
   ],
   "source": [
    "# 부자와 가난한 사람 간의 생존 확률\n",
    "sns.barplot(x='Pclass', y='Survived', hue='Sex', data=titanic_df)"
   ]
  },
  {
   "cell_type": "code",
   "execution_count": 19,
   "metadata": {},
   "outputs": [
    {
     "name": "stderr",
     "output_type": "stream",
     "text": [
      "findfont: Font family 'D2Coding' not found.\n",
      "findfont: Font family 'D2Coding' not found.\n",
      "/Users/so_ha/anaconda3/lib/python3.10/site-packages/IPython/core/events.py:89: UserWarning: Glyph 50508 (\\N{HANGUL SYLLABLE AL}) missing from current font.\n",
      "  func(*args, **kwargs)\n",
      "/Users/so_ha/anaconda3/lib/python3.10/site-packages/IPython/core/events.py:89: UserWarning: Glyph 49688 (\\N{HANGUL SYLLABLE SU}) missing from current font.\n",
      "  func(*args, **kwargs)\n",
      "/Users/so_ha/anaconda3/lib/python3.10/site-packages/IPython/core/events.py:89: UserWarning: Glyph 50630 (\\N{HANGUL SYLLABLE EOBS}) missing from current font.\n",
      "  func(*args, **kwargs)\n",
      "/Users/so_ha/anaconda3/lib/python3.10/site-packages/IPython/core/events.py:89: UserWarning: Glyph 51020 (\\N{HANGUL SYLLABLE EUM}) missing from current font.\n",
      "  func(*args, **kwargs)\n",
      "findfont: Font family 'D2Coding' not found.\n",
      "/Users/so_ha/anaconda3/lib/python3.10/site-packages/IPython/core/events.py:89: UserWarning: Glyph 50976 (\\N{HANGUL SYLLABLE YU}) missing from current font.\n",
      "  func(*args, **kwargs)\n",
      "/Users/so_ha/anaconda3/lib/python3.10/site-packages/IPython/core/events.py:89: UserWarning: Glyph 50500 (\\N{HANGUL SYLLABLE A}) missing from current font.\n",
      "  func(*args, **kwargs)\n",
      "findfont: Font family 'D2Coding' not found.\n",
      "/Users/so_ha/anaconda3/lib/python3.10/site-packages/IPython/core/events.py:89: UserWarning: Glyph 50612 (\\N{HANGUL SYLLABLE EO}) missing from current font.\n",
      "  func(*args, **kwargs)\n",
      "/Users/so_ha/anaconda3/lib/python3.10/site-packages/IPython/core/events.py:89: UserWarning: Glyph 47536 (\\N{HANGUL SYLLABLE RIN}) missing from current font.\n",
      "  func(*args, **kwargs)\n",
      "/Users/so_ha/anaconda3/lib/python3.10/site-packages/IPython/core/events.py:89: UserWarning: Glyph 51060 (\\N{HANGUL SYLLABLE I}) missing from current font.\n",
      "  func(*args, **kwargs)\n",
      "findfont: Font family 'D2Coding' not found.\n",
      "/Users/so_ha/anaconda3/lib/python3.10/site-packages/IPython/core/events.py:89: UserWarning: Glyph 52397 (\\N{HANGUL SYLLABLE CEONG}) missing from current font.\n",
      "  func(*args, **kwargs)\n",
      "/Users/so_ha/anaconda3/lib/python3.10/site-packages/IPython/core/events.py:89: UserWarning: Glyph 49548 (\\N{HANGUL SYLLABLE SO}) missing from current font.\n",
      "  func(*args, **kwargs)\n",
      "/Users/so_ha/anaconda3/lib/python3.10/site-packages/IPython/core/events.py:89: UserWarning: Glyph 45380 (\\N{HANGUL SYLLABLE NYEON}) missing from current font.\n",
      "  func(*args, **kwargs)\n",
      "findfont: Font family 'D2Coding' not found.\n",
      "/Users/so_ha/anaconda3/lib/python3.10/site-packages/IPython/core/events.py:89: UserWarning: Glyph 54617 (\\N{HANGUL SYLLABLE HAG}) missing from current font.\n",
      "  func(*args, **kwargs)\n",
      "/Users/so_ha/anaconda3/lib/python3.10/site-packages/IPython/core/events.py:89: UserWarning: Glyph 49373 (\\N{HANGUL SYLLABLE SAENG}) missing from current font.\n",
      "  func(*args, **kwargs)\n",
      "findfont: Font family 'D2Coding' not found.\n",
      "findfont: Font family 'D2Coding' not found.\n",
      "/Users/so_ha/anaconda3/lib/python3.10/site-packages/IPython/core/events.py:89: UserWarning: Glyph 51473 (\\N{HANGUL SYLLABLE JUNG}) missing from current font.\n",
      "  func(*args, **kwargs)\n",
      "findfont: Font family 'D2Coding' not found.\n",
      "/Users/so_ha/anaconda3/lib/python3.10/site-packages/IPython/core/events.py:89: UserWarning: Glyph 45432 (\\N{HANGUL SYLLABLE NO}) missing from current font.\n",
      "  func(*args, **kwargs)\n",
      "findfont: Font family 'D2Coding' not found.\n",
      "findfont: Font family 'D2Coding' not found.\n",
      "findfont: Font family 'D2Coding' not found.\n",
      "findfont: Font family 'D2Coding' not found.\n",
      "findfont: Font family 'D2Coding' not found.\n",
      "findfont: Font family 'D2Coding' not found.\n",
      "findfont: Font family 'D2Coding' not found.\n",
      "findfont: Font family 'D2Coding' not found.\n",
      "findfont: Font family 'D2Coding' not found.\n",
      "findfont: Font family 'D2Coding' not found.\n",
      "findfont: Font family 'D2Coding' not found.\n",
      "findfont: Font family 'D2Coding' not found.\n",
      "findfont: Font family 'D2Coding' not found.\n",
      "findfont: Font family 'D2Coding' not found.\n",
      "findfont: Font family 'D2Coding' not found.\n",
      "findfont: Font family 'D2Coding' not found.\n",
      "findfont: Font family 'D2Coding' not found.\n",
      "findfont: Font family 'D2Coding' not found.\n",
      "findfont: Font family 'D2Coding' not found.\n",
      "findfont: Font family 'D2Coding' not found.\n",
      "findfont: Font family 'D2Coding' not found.\n",
      "findfont: Font family 'D2Coding' not found.\n",
      "findfont: Font family 'D2Coding' not found.\n",
      "findfont: Font family 'D2Coding' not found.\n",
      "findfont: Font family 'D2Coding' not found.\n",
      "findfont: Font family 'D2Coding' not found.\n",
      "findfont: Font family 'D2Coding' not found.\n",
      "findfont: Font family 'D2Coding' not found.\n",
      "findfont: Font family 'D2Coding' not found.\n",
      "findfont: Font family 'D2Coding' not found.\n",
      "findfont: Font family 'D2Coding' not found.\n",
      "findfont: Font family 'D2Coding' not found.\n",
      "findfont: Font family 'D2Coding' not found.\n",
      "findfont: Font family 'D2Coding' not found.\n",
      "findfont: Font family 'D2Coding' not found.\n",
      "findfont: Font family 'D2Coding' not found.\n",
      "findfont: Font family 'D2Coding' not found.\n",
      "findfont: Font family 'D2Coding' not found.\n",
      "findfont: Font family 'D2Coding' not found.\n",
      "findfont: Font family 'D2Coding' not found.\n",
      "findfont: Font family 'D2Coding' not found.\n",
      "findfont: Font family 'D2Coding' not found.\n",
      "findfont: Font family 'D2Coding' not found.\n",
      "findfont: Font family 'D2Coding' not found.\n",
      "findfont: Font family 'D2Coding' not found.\n",
      "findfont: Font family 'D2Coding' not found.\n",
      "findfont: Font family 'D2Coding' not found.\n",
      "findfont: Font family 'D2Coding' not found.\n",
      "findfont: Font family 'D2Coding' not found.\n",
      "findfont: Font family 'D2Coding' not found.\n",
      "findfont: Font family 'D2Coding' not found.\n",
      "findfont: Font family 'D2Coding' not found.\n",
      "findfont: Font family 'D2Coding' not found.\n",
      "findfont: Font family 'D2Coding' not found.\n",
      "findfont: Font family 'D2Coding' not found.\n",
      "findfont: Font family 'D2Coding' not found.\n",
      "findfont: Font family 'D2Coding' not found.\n",
      "findfont: Font family 'D2Coding' not found.\n",
      "findfont: Font family 'D2Coding' not found.\n",
      "findfont: Font family 'D2Coding' not found.\n",
      "findfont: Font family 'D2Coding' not found.\n",
      "findfont: Font family 'D2Coding' not found.\n",
      "findfont: Font family 'D2Coding' not found.\n",
      "findfont: Font family 'D2Coding' not found.\n",
      "findfont: Font family 'D2Coding' not found.\n",
      "findfont: Font family 'D2Coding' not found.\n",
      "/Users/so_ha/anaconda3/lib/python3.10/site-packages/IPython/core/pylabtools.py:152: UserWarning: Glyph 50508 (\\N{HANGUL SYLLABLE AL}) missing from current font.\n",
      "  fig.canvas.print_figure(bytes_io, **kw)\n",
      "/Users/so_ha/anaconda3/lib/python3.10/site-packages/IPython/core/pylabtools.py:152: UserWarning: Glyph 49688 (\\N{HANGUL SYLLABLE SU}) missing from current font.\n",
      "  fig.canvas.print_figure(bytes_io, **kw)\n",
      "/Users/so_ha/anaconda3/lib/python3.10/site-packages/IPython/core/pylabtools.py:152: UserWarning: Glyph 50630 (\\N{HANGUL SYLLABLE EOBS}) missing from current font.\n",
      "  fig.canvas.print_figure(bytes_io, **kw)\n",
      "/Users/so_ha/anaconda3/lib/python3.10/site-packages/IPython/core/pylabtools.py:152: UserWarning: Glyph 51020 (\\N{HANGUL SYLLABLE EUM}) missing from current font.\n",
      "  fig.canvas.print_figure(bytes_io, **kw)\n",
      "findfont: Font family 'D2Coding' not found.\n",
      "/Users/so_ha/anaconda3/lib/python3.10/site-packages/IPython/core/pylabtools.py:152: UserWarning: Glyph 50976 (\\N{HANGUL SYLLABLE YU}) missing from current font.\n",
      "  fig.canvas.print_figure(bytes_io, **kw)\n",
      "/Users/so_ha/anaconda3/lib/python3.10/site-packages/IPython/core/pylabtools.py:152: UserWarning: Glyph 50500 (\\N{HANGUL SYLLABLE A}) missing from current font.\n",
      "  fig.canvas.print_figure(bytes_io, **kw)\n",
      "findfont: Font family 'D2Coding' not found.\n",
      "/Users/so_ha/anaconda3/lib/python3.10/site-packages/IPython/core/pylabtools.py:152: UserWarning: Glyph 50612 (\\N{HANGUL SYLLABLE EO}) missing from current font.\n",
      "  fig.canvas.print_figure(bytes_io, **kw)\n",
      "/Users/so_ha/anaconda3/lib/python3.10/site-packages/IPython/core/pylabtools.py:152: UserWarning: Glyph 47536 (\\N{HANGUL SYLLABLE RIN}) missing from current font.\n",
      "  fig.canvas.print_figure(bytes_io, **kw)\n",
      "/Users/so_ha/anaconda3/lib/python3.10/site-packages/IPython/core/pylabtools.py:152: UserWarning: Glyph 51060 (\\N{HANGUL SYLLABLE I}) missing from current font.\n",
      "  fig.canvas.print_figure(bytes_io, **kw)\n",
      "findfont: Font family 'D2Coding' not found.\n",
      "/Users/so_ha/anaconda3/lib/python3.10/site-packages/IPython/core/pylabtools.py:152: UserWarning: Glyph 52397 (\\N{HANGUL SYLLABLE CEONG}) missing from current font.\n",
      "  fig.canvas.print_figure(bytes_io, **kw)\n",
      "/Users/so_ha/anaconda3/lib/python3.10/site-packages/IPython/core/pylabtools.py:152: UserWarning: Glyph 49548 (\\N{HANGUL SYLLABLE SO}) missing from current font.\n",
      "  fig.canvas.print_figure(bytes_io, **kw)\n",
      "/Users/so_ha/anaconda3/lib/python3.10/site-packages/IPython/core/pylabtools.py:152: UserWarning: Glyph 45380 (\\N{HANGUL SYLLABLE NYEON}) missing from current font.\n",
      "  fig.canvas.print_figure(bytes_io, **kw)\n",
      "findfont: Font family 'D2Coding' not found.\n",
      "/Users/so_ha/anaconda3/lib/python3.10/site-packages/IPython/core/pylabtools.py:152: UserWarning: Glyph 54617 (\\N{HANGUL SYLLABLE HAG}) missing from current font.\n",
      "  fig.canvas.print_figure(bytes_io, **kw)\n",
      "/Users/so_ha/anaconda3/lib/python3.10/site-packages/IPython/core/pylabtools.py:152: UserWarning: Glyph 49373 (\\N{HANGUL SYLLABLE SAENG}) missing from current font.\n",
      "  fig.canvas.print_figure(bytes_io, **kw)\n",
      "findfont: Font family 'D2Coding' not found.\n",
      "findfont: Font family 'D2Coding' not found.\n",
      "/Users/so_ha/anaconda3/lib/python3.10/site-packages/IPython/core/pylabtools.py:152: UserWarning: Glyph 51473 (\\N{HANGUL SYLLABLE JUNG}) missing from current font.\n",
      "  fig.canvas.print_figure(bytes_io, **kw)\n",
      "findfont: Font family 'D2Coding' not found.\n",
      "/Users/so_ha/anaconda3/lib/python3.10/site-packages/IPython/core/pylabtools.py:152: UserWarning: Glyph 45432 (\\N{HANGUL SYLLABLE NO}) missing from current font.\n",
      "  fig.canvas.print_figure(bytes_io, **kw)\n",
      "findfont: Font family 'D2Coding' not found.\n",
      "findfont: Font family 'D2Coding' not found.\n",
      "findfont: Font family 'D2Coding' not found.\n",
      "findfont: Font family 'D2Coding' not found.\n",
      "findfont: Font family 'D2Coding' not found.\n",
      "findfont: Font family 'D2Coding' not found.\n",
      "findfont: Font family 'D2Coding' not found.\n",
      "findfont: Font family 'D2Coding' not found.\n",
      "findfont: Font family 'D2Coding' not found.\n",
      "findfont: Font family 'D2Coding' not found.\n",
      "findfont: Font family 'D2Coding' not found.\n",
      "findfont: Font family 'D2Coding' not found.\n",
      "findfont: Font family 'D2Coding' not found.\n",
      "findfont: Font family 'D2Coding' not found.\n",
      "findfont: Font family 'D2Coding' not found.\n",
      "findfont: Font family 'D2Coding' not found.\n",
      "findfont: Font family 'D2Coding' not found.\n",
      "findfont: Font family 'D2Coding' not found.\n",
      "findfont: Font family 'D2Coding' not found.\n",
      "findfont: Font family 'D2Coding' not found.\n",
      "findfont: Font family 'D2Coding' not found.\n",
      "findfont: Font family 'D2Coding' not found.\n",
      "findfont: Font family 'D2Coding' not found.\n",
      "findfont: Font family 'D2Coding' not found.\n",
      "findfont: Font family 'D2Coding' not found.\n",
      "findfont: Font family 'D2Coding' not found.\n",
      "findfont: Font family 'D2Coding' not found.\n",
      "findfont: Font family 'D2Coding' not found.\n",
      "findfont: Font family 'D2Coding' not found.\n",
      "findfont: Font family 'D2Coding' not found.\n",
      "findfont: Font family 'D2Coding' not found.\n",
      "findfont: Font family 'D2Coding' not found.\n",
      "findfont: Font family 'D2Coding' not found.\n",
      "findfont: Font family 'D2Coding' not found.\n",
      "findfont: Font family 'D2Coding' not found.\n",
      "findfont: Font family 'D2Coding' not found.\n",
      "findfont: Font family 'D2Coding' not found.\n",
      "findfont: Font family 'D2Coding' not found.\n",
      "findfont: Font family 'D2Coding' not found.\n",
      "findfont: Font family 'D2Coding' not found.\n",
      "findfont: Font family 'D2Coding' not found.\n",
      "findfont: Font family 'D2Coding' not found.\n",
      "findfont: Font family 'D2Coding' not found.\n"
     ]
    },
    {
     "data": {
      "image/png": "[encoded data removed]",
      "text/plain": [
       "<Figure size 1000x600 with 1 Axes>"
      ]
     },
     "metadata": {},
     "output_type": "display_data"
    }
   ],
   "source": [
    "# 나이에 따른 생존 확률\n",
    "def get_category(age):\n",
    "    cat = ''\n",
    "    if age <= -1: cat = '알 수 없음'\n",
    "    elif age <= 5: cat = '유아'\n",
    "    elif age <= 12: cat = '어린이'\n",
    "    elif age <= 18: cat = '청소년'\n",
    "    elif age <= 25: cat = '학생'\n",
    "    elif age <= 35: cat = '청년'\n",
    "    elif age <= 60: cat = '중년'\n",
    "    else : cat = '노년'\n",
    "    \n",
    "    return cat\n",
    "\n",
    "plt.figure(figsize=(10,6))\n",
    "group_names = ['알 수 없음', '유아', '어린이', '청소년', '학생', '청년', '중년', '노년']\n",
    "sns.set(rc = {'font.family':'D2Coding'})\n",
    "\n",
    "# lambda 식에 위에서 생성한 get_category( ) 함수를 반환값으로 지정. \n",
    "# get_category(X)는 입력값으로 'Age' 컬럼값을 받아서 해당하는 cat 반환\n",
    "titanic_df['Age_cat'] = titanic_df['Age'].apply(lambda x : get_category(x))\n",
    "sns.barplot(x='Age_cat', y = 'Survived', hue='Sex', data=titanic_df, order=group_names)\n",
    "titanic_df.drop('Age_cat', axis=1, inplace=True)"
   ]
  },
  {
   "cell_type": "code",
   "execution_count": null,
   "metadata": {},
   "outputs": [],
   "source": []
  }
 ],
 "metadata": {
  "kernelspec": {
   "display_name": "base",
   "language": "python",
   "name": "python3"
  },
  "language_info": {
   "codemirror_mode": {
    "name": "ipython",
    "version": 3
   },
   "file_extension": ".py",
   "mimetype": "text/x-python",
   "name": "python",
   "nbconvert_exporter": "python",
   "pygments_lexer": "ipython3",
   "version": "3.10.9"
  },
  "orig_nbformat": 4
 },
 "nbformat": 4,
 "nbformat_minor": 2
}
